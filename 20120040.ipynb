{
 "cells": [
  {
   "attachments": {},
   "cell_type": "markdown",
   "metadata": {},
   "source": [
    "__<h1 align = \"center\">STATIC LEARNING</h1>__\n",
    "\n",
    "__<h1 align = \"center\">Lab assignment 2 – Logistic regression</h1>__"
   ]
  },
  {
   "attachments": {},
   "cell_type": "markdown",
   "metadata": {},
   "source": [
    "---"
   ]
  },
  {
   "attachments": {},
   "cell_type": "markdown",
   "metadata": {},
   "source": [
    "## Import library"
   ]
  },
  {
   "cell_type": "code",
   "execution_count": 44,
   "metadata": {},
   "outputs": [],
   "source": [
    "import json\n",
    "import pandas as pd\n",
    "import numpy as np\n",
    "from sklearn.model_selection import train_test_split\n",
    "from sklearn.metrics import accuracy_score, precision_score, recall_score, f1_score\n",
    "from sklearn.metrics import classification_report"
   ]
  },
  {
   "attachments": {},
   "cell_type": "markdown",
   "metadata": {},
   "source": [
    "## Read files"
   ]
  },
  {
   "cell_type": "code",
   "execution_count": 45,
   "metadata": {},
   "outputs": [
    {
     "data": {
      "text/html": [
       "<div>\n",
       "<style scoped>\n",
       "    .dataframe tbody tr th:only-of-type {\n",
       "        vertical-align: middle;\n",
       "    }\n",
       "\n",
       "    .dataframe tbody tr th {\n",
       "        vertical-align: top;\n",
       "    }\n",
       "\n",
       "    .dataframe thead th {\n",
       "        text-align: right;\n",
       "    }\n",
       "</style>\n",
       "<table border=\"1\" class=\"dataframe\">\n",
       "  <thead>\n",
       "    <tr style=\"text-align: right;\">\n",
       "      <th></th>\n",
       "      <th>feature 1</th>\n",
       "      <th>feature 2</th>\n",
       "      <th>label</th>\n",
       "    </tr>\n",
       "  </thead>\n",
       "  <tbody>\n",
       "    <tr>\n",
       "      <th>0</th>\n",
       "      <td>0.051267</td>\n",
       "      <td>0.699560</td>\n",
       "      <td>1</td>\n",
       "    </tr>\n",
       "    <tr>\n",
       "      <th>1</th>\n",
       "      <td>-0.092742</td>\n",
       "      <td>0.684940</td>\n",
       "      <td>1</td>\n",
       "    </tr>\n",
       "    <tr>\n",
       "      <th>2</th>\n",
       "      <td>-0.213710</td>\n",
       "      <td>0.692250</td>\n",
       "      <td>1</td>\n",
       "    </tr>\n",
       "    <tr>\n",
       "      <th>3</th>\n",
       "      <td>-0.375000</td>\n",
       "      <td>0.502190</td>\n",
       "      <td>1</td>\n",
       "    </tr>\n",
       "    <tr>\n",
       "      <th>4</th>\n",
       "      <td>-0.513250</td>\n",
       "      <td>0.465640</td>\n",
       "      <td>1</td>\n",
       "    </tr>\n",
       "    <tr>\n",
       "      <th>...</th>\n",
       "      <td>...</td>\n",
       "      <td>...</td>\n",
       "      <td>...</td>\n",
       "    </tr>\n",
       "    <tr>\n",
       "      <th>113</th>\n",
       "      <td>-0.720620</td>\n",
       "      <td>0.538740</td>\n",
       "      <td>0</td>\n",
       "    </tr>\n",
       "    <tr>\n",
       "      <th>114</th>\n",
       "      <td>-0.593890</td>\n",
       "      <td>0.494880</td>\n",
       "      <td>0</td>\n",
       "    </tr>\n",
       "    <tr>\n",
       "      <th>115</th>\n",
       "      <td>-0.484450</td>\n",
       "      <td>0.999270</td>\n",
       "      <td>0</td>\n",
       "    </tr>\n",
       "    <tr>\n",
       "      <th>116</th>\n",
       "      <td>-0.006336</td>\n",
       "      <td>0.999270</td>\n",
       "      <td>0</td>\n",
       "    </tr>\n",
       "    <tr>\n",
       "      <th>117</th>\n",
       "      <td>0.632650</td>\n",
       "      <td>-0.030612</td>\n",
       "      <td>0</td>\n",
       "    </tr>\n",
       "  </tbody>\n",
       "</table>\n",
       "<p>118 rows × 3 columns</p>\n",
       "</div>"
      ],
      "text/plain": [
       "     feature 1  feature 2  label\n",
       "0     0.051267   0.699560      1\n",
       "1    -0.092742   0.684940      1\n",
       "2    -0.213710   0.692250      1\n",
       "3    -0.375000   0.502190      1\n",
       "4    -0.513250   0.465640      1\n",
       "..         ...        ...    ...\n",
       "113  -0.720620   0.538740      0\n",
       "114  -0.593890   0.494880      0\n",
       "115  -0.484450   0.999270      0\n",
       "116  -0.006336   0.999270      0\n",
       "117   0.632650  -0.030612      0\n",
       "\n",
       "[118 rows x 3 columns]"
      ]
     },
     "execution_count": 45,
     "metadata": {},
     "output_type": "execute_result"
    }
   ],
   "source": [
    "file_path = 'training_data.txt'\n",
    "columns = ['feature 1', 'feature 2', 'label']\n",
    "df = pd.read_csv(file_path, header = None, names = columns)\n",
    "df"
   ]
  },
  {
   "cell_type": "code",
   "execution_count": 46,
   "metadata": {},
   "outputs": [
    {
     "name": "stdout",
     "output_type": "stream",
     "text": [
      "118 28\n"
     ]
    }
   ],
   "source": [
    "import map_feature\n",
    "\n",
    "ar_feature = map_feature.map_feature(df['feature 1'], df['feature 2'])\n",
    "print(len(ar_feature), len(ar_feature[0]))"
   ]
  },
  {
   "cell_type": "code",
   "execution_count": 47,
   "metadata": {},
   "outputs": [
    {
     "name": "stdout",
     "output_type": "stream",
     "text": [
      "{'Alpha': 0.5, 'Lambda': 1, 'NumIter': 10000}\n"
     ]
    }
   ],
   "source": [
    "with open('config.json',) as f:\n",
    "    configs = json.load(f)\n",
    "\n",
    "print(configs)"
   ]
  },
  {
   "attachments": {},
   "cell_type": "markdown",
   "metadata": {},
   "source": [
    "## Helper functions"
   ]
  },
  {
   "cell_type": "code",
   "execution_count": 48,
   "metadata": {},
   "outputs": [],
   "source": [
    "class LogisticRegression:\n",
    "    def __init__(self, learning_rate = 0.01, num_iterations = 1000):\n",
    "        self.learning_rate = learning_rate\n",
    "        self.num_iterations = num_iterations\n",
    "        self.theta = None\n",
    "\n",
    "    def sigmoid_activation(self, z):\n",
    "        return 1 / (1 + np.exp(-z))\n",
    "\n",
    "    def compute_cost(self, X, y):\n",
    "        m = len(y)\n",
    "        h = self.sigmoid_activation(X.dot(self.theta))\n",
    "        cost = (1 / m) * np.sum( - y * np.log(h) - (1 - y) * np.log(1 - h))\n",
    "        return cost\n",
    "\n",
    "    def compute_gradient(self, X, y):\n",
    "        m = len(y)\n",
    "        h = self.sigmoid_activation(X.dot(self.theta))\n",
    "        gradient = (1 / m) * X.T.dot(h - y)\n",
    "        return gradient\n",
    "\n",
    "    def gradient_descent(self, X, y):\n",
    "        self.theta = np.zeros(X.shape[1])\n",
    "        for _ in range(self.num_iterations):\n",
    "            gradient = self.compute_gradient(X, y)\n",
    "            self.theta -= self.learning_rate * gradient\n",
    "\n",
    "    def predict(self, X):\n",
    "        h = self.sigmoid_activation(X.dot(self.theta))\n",
    "        results = np.where(h >= 0.5, 1, 0)\n",
    "        return results\n",
    "    \n",
    "    def evaluate(self, X, y):\n",
    "        predictions = self.predict(X)\n",
    "\n",
    "        # Calculate evaluation metrics\n",
    "        accuracy = np.mean(predictions == y)\n",
    "        precision = np.sum(predictions * y) / np.sum(predictions)\n",
    "        recall = np.sum(predictions * y) / np.sum(y)\n",
    "        f1_score = (2 * precision * recall) / (precision + recall)\n",
    "\n",
    "        return accuracy, precision, recall, f1_score"
   ]
  },
  {
   "attachments": {},
   "cell_type": "markdown",
   "metadata": {},
   "source": [
    "## Train model"
   ]
  },
  {
   "cell_type": "code",
   "execution_count": 49,
   "metadata": {},
   "outputs": [
    {
     "name": "stdout",
     "output_type": "stream",
     "text": [
      "Cost: 0.6316012104969425\n",
      "Predictions: [1 0 1 0 0 0 0 0 0 0 1 0 0 0 0 1 1 1 0 0 0 0 0 1]\n",
      "Accuracy: 0.7083333333333334\n",
      "Precision: 0.8571428571428571\n",
      "Recall: 0.5\n",
      "F1-score: 0.631578947368421\n"
     ]
    }
   ],
   "source": [
    "X = ar_feature\n",
    "y = df['label']\n",
    "\n",
    "X_train, X_test, y_train, y_test = train_test_split(X, y, test_size=0.2, random_state=42)\n",
    "\n",
    "model = LogisticRegression()\n",
    "model.gradient_descent(X_train, y_train)\n",
    "\n",
    "cost = model.compute_cost(X_train, y_train)\n",
    "print(\"Cost:\", cost)\n",
    "\n",
    "predictions = model.predict(X_test)\n",
    "print(\"Predictions:\", predictions)\n",
    "\n",
    "accuracy, precision, recall, f1_score = model.evaluate(X_test, y_test)\n",
    "print('Accuracy:', accuracy)\n",
    "print('Precision:', precision)\n",
    "print('Recall:', recall)\n",
    "print('F1-score:', f1_score)"
   ]
  },
  {
   "attachments": {},
   "cell_type": "markdown",
   "metadata": {},
   "source": [
    "## Save results"
   ]
  },
  {
   "cell_type": "code",
   "execution_count": 50,
   "metadata": {},
   "outputs": [],
   "source": [
    "with open('model.json', 'w') as f:\n",
    "    json.dump({'Predictions: ': model.predict(X_test).tolist()}, f)\n",
    "\n",
    "with open('classification_report.json', 'w') as f:\n",
    "    result = {\n",
    "        'Accuracy: ': accuracy,\n",
    "        'Precision: ': precision,\n",
    "        'Recall: ': recall,\n",
    "        'F1-score:': f1_score\n",
    "    }\n",
    "    json.dump(result, f)"
   ]
  }
 ],
 "metadata": {
  "kernelspec": {
   "display_name": "snowpark",
   "language": "python",
   "name": "python3"
  },
  "language_info": {
   "codemirror_mode": {
    "name": "ipython",
    "version": 3
   },
   "file_extension": ".py",
   "mimetype": "text/x-python",
   "name": "python",
   "nbconvert_exporter": "python",
   "pygments_lexer": "ipython3",
   "version": "3.8.15"
  },
  "orig_nbformat": 4
 },
 "nbformat": 4,
 "nbformat_minor": 2
}
